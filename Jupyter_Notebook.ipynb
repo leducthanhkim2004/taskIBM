{
 "cells": [
  {
   "cell_type": "markdown",
   "metadata": {},
   "source": [
    "<center>\n",
    "    <img src=\"https://cf-courses-data.s3.us.cloud-object-storage.appdomain.cloud/IBMDeveloperSkillsNetwork-DS0105EN-SkillsNetwork/labs/Module2/images/SN_web_lightmode.png\" width=\"300\" alt=\"cognitiveclass.ai logo\">\n",
    "</center>\n"
   ]
  },
  {
   "cell_type": "markdown",
   "metadata": {},
   "source": [
    "#### Add your code below following the instructions given in the course\n"
   ]
  },
  {
   "cell_type": "markdown",
   "metadata": {},
   "source": [
    "DATA SCIENCE TOOLS AND ECOSYSTEM \n",
    "In this notebook all knowledge will be reviewed systematically .\n",
    "Some of popular languages used in Data Science are Python , R, Julia,...\n",
    "Some of commonly used libraries used in Python are : Numpy , Pandas, Tensorflow.\n"
   ]
  },
  {
   "cell_type": "code",
   "execution_count": 1,
   "metadata": {
    "tags": []
   },
   "outputs": [
    {
     "data": {
      "text/markdown": [
       "| Tool | Description |\n",
       "| --- | --- |\n",
       "| NumPy | Numerical computing library |\n",
       "| Pandas | Data manipulation and analysis library |\n",
       "| Matplotlib | Data visualization library |\n",
       "| Scikit-learn | Machine learning library |\n",
       "| TensorFlow | Open-source machine learning platform |\n",
       "| Keras | High-level neural networks API |\n",
       "| PyTorch | Open-source machine learning library |\n",
       "| Seaborn | Data visualization library |\n",
       "| SciPy | Scientific computing library |\n",
       "| NLTK | Natural language processing library |\n",
       "| Statsmodels | Statistical modeling library |"
      ],
      "text/plain": [
       "<IPython.core.display.Markdown object>"
      ]
     },
     "metadata": {},
     "output_type": "display_data"
    }
   ],
   "source": [
    "from IPython.display import Markdown, display\n",
    "\n",
    "# Define the table contents\n",
    "table = \"| Tool | Description |\\n| --- | --- |\\n| NumPy | Numerical computing library |\\n| Pandas | Data manipulation and analysis library |\\n| Matplotlib | Data visualization library |\\n| Scikit-learn | Machine learning library |\\n| TensorFlow | Open-source machine learning platform |\\n| Keras | High-level neural networks API |\\n| PyTorch | Open-source machine learning library |\\n| Seaborn | Data visualization library |\\n| SciPy | Scientific computing library |\\n| NLTK | Natural language processing library |\\n| Statsmodels | Statistical modeling library |\"\n",
    "\n",
    "# Create the Markdown cell\n",
    "display(Markdown(table))"
   ]
  },
  {
   "cell_type": "code",
   "execution_count": 2,
   "metadata": {
    "tags": []
   },
   "outputs": [
    {
     "data": {
      "text/markdown": [
       "### Below are a few examples of evaluating arithmetic expressions in Python\n"
      ],
      "text/plain": [
       "<IPython.core.display.Markdown object>"
      ]
     },
     "metadata": {},
     "output_type": "display_data"
    }
   ],
   "source": [
    "from IPython.display import Markdown, display\n",
    "\n",
    "# Define the Markdown string with the H3 heading\n",
    "md = \"### Below are a few examples of evaluating arithmetic expressions in Python\\n\"\n",
    "\n",
    "# Add the Markdown string to the existing Markdown cell\n",
    "display(Markdown(md))"
   ]
  },
  {
   "cell_type": "code",
   "execution_count": 3,
   "metadata": {
    "tags": []
   },
   "outputs": [
    {
     "data": {
      "text/plain": [
       "12"
      ]
     },
     "execution_count": 3,
     "metadata": {},
     "output_type": "execute_result"
    }
   ],
   "source": [
    "3*4"
   ]
  },
  {
   "cell_type": "code",
   "execution_count": 4,
   "metadata": {
    "tags": []
   },
   "outputs": [
    {
     "data": {
      "text/plain": [
       "17"
      ]
     },
     "execution_count": 4,
     "metadata": {},
     "output_type": "execute_result"
    }
   ],
   "source": [
    "3*4+5\n"
   ]
  },
  {
   "cell_type": "code",
   "execution_count": 12,
   "metadata": {
    "tags": []
   },
   "outputs": [
    {
     "name": "stdout",
     "output_type": "stream",
     "text": [
      "120 is  equal to 2.0 hours\n"
     ]
    }
   ],
   "source": [
    "#define the hours\n",
    "minutes= 120\n",
    "hours=minutes/60\n",
    "print(f\"{minutes} is  equal to {hours} hours\")\n"
   ]
  },
  {
   "cell_type": "markdown",
   "metadata": {},
   "source": [
    "this will convert 120 minutes into 2 hours\n"
   ]
  },
  {
   "cell_type": "markdown",
   "metadata": {},
   "source": [
    "### Author KIM LE DUC THANH"
   ]
  },
  {
   "cell_type": "code",
   "execution_count": null,
   "metadata": {},
   "outputs": [],
   "source": []
  }
 ],
 "metadata": {
  "kernelspec": {
   "display_name": "Python",
   "language": "python",
   "name": "conda-env-python-py"
  },
  "language_info": {
   "codemirror_mode": {
    "name": "ipython",
    "version": 3
   },
   "file_extension": ".py",
   "mimetype": "text/x-python",
   "name": "python",
   "nbconvert_exporter": "python",
   "pygments_lexer": "ipython3",
   "version": "3.7.12"
  }
 },
 "nbformat": 4,
 "nbformat_minor": 4
}
